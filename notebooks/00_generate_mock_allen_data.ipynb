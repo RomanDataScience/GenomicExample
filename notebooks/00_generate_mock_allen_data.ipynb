{
  "cells": [
    {
      "cell_type": "code",
      "execution_count": null,
      "metadata": {},
      "outputs": [],
      "source": "import numpy as np\nimport pandas as pd\nimport scanpy as sc\nfrom pathlib import Path\n\nPath(\"data/raw\").mkdir(parents=True, exist_ok=True)\n\nn_cells = 2000\nn_genes = 1500\ncell_types = [\"Excitatory\", \"Inhibitory\", \"Astrocyte\", \"Microglia\", \"Oligodendrocyte\"]\n\nnp.random.seed(42)\nX = np.random.poisson(lam=5, size=(n_cells, n_genes))\nadata = sc.AnnData(X)\nadata.var_names = [f\"Gene{i}\" for i in range(n_genes)]\nadata.obs[\"cell_type\"] = np.random.choice(cell_types, size=n_cells)\nadata.obs[\"donor_id\"] = np.random.choice([\"D1\",\"D2\",\"D3\",\"D4\"], size=n_cells)\nadata.obs[\"diagnosis\"] = np.random.choice([\"Control\",\"AD\"], size=n_cells)\nadata.obs[\"age\"] = np.random.randint(60, 90, size=n_cells)\nadata.obs[\"sex\"] = np.random.choice([\"M\",\"F\"], size=n_cells)\n\nadata.write(\"data/raw/mock_allen.h5ad\")\nprint(\"\u2705 Mock dataset written to data/raw/mock_allen.h5ad\")\n"
    }
  ],
  "metadata": {},
  "nbformat": 4,
  "nbformat_minor": 5
}